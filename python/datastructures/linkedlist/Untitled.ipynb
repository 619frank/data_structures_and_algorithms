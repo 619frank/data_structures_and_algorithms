{
 "cells": [
  {
   "cell_type": "code",
   "execution_count": 10,
   "metadata": {},
   "outputs": [
    {
     "name": "stdout",
     "output_type": "stream",
     "text": [
      "Nodes of doubly linked list: \n",
      "1\n",
      "2\n",
      "3\n",
      "4\n",
      "5\n"
     ]
    }
   ],
   "source": [
    "#Represent a node of doubly linked list    \n",
    "class Node:    \n",
    "    def __init__(self,data):    \n",
    "        self.data = data;    \n",
    "        self.previous = None;    \n",
    "        self.next = None;    \n",
    "            \n",
    "class DoublyLinkedList:    \n",
    "    #Represent the head and tail of the doubly linked list    \n",
    "    def __init__(self):    \n",
    "        self.head = None;    \n",
    "        self.tail = None;    \n",
    "            \n",
    "    #addNode() will add a node to the list    \n",
    "    def addNode(self, data):    \n",
    "        #Create a new node    \n",
    "        newNode = Node(data);    \n",
    "            \n",
    "        #If list is empty    \n",
    "        if(self.head == None):    \n",
    "            #Both head and tail will point to newNode    \n",
    "            self.head = self.tail = newNode;    \n",
    "            #head's previous will point to None    \n",
    "            self.head.previous = None;    \n",
    "            #tail's next will point to None, as it is the last node of the list    \n",
    "            self.tail.next = None;    \n",
    "        else:    \n",
    "            #newNode will be added after tail such that tail's next will point to newNode    \n",
    "            self.tail.next = newNode;    \n",
    "            #newNode's previous will point to tail    \n",
    "            newNode.previous = self.tail;    \n",
    "            #newNode will become new tail    \n",
    "            self.tail = newNode;    \n",
    "            #As it is last node, tail's next will point to None    \n",
    "            self.tail.next = None;    \n",
    "                \n",
    "    #display() will print out the nodes of the list    \n",
    "    def display(self):    \n",
    "        #Node current will point to head    \n",
    "        current = self.head;    \n",
    "        if(self.head == None):    \n",
    "            print(\"List is empty\");    \n",
    "            return;    \n",
    "        print(\"Nodes of doubly linked list: \");    \n",
    "        while(current != None):     \n",
    "            #Prints each node by incrementing pointer.    \n",
    "            print(current.data),;    \n",
    "            current = current.next;    \n",
    "                \n",
    "dList = DoublyLinkedList();    \n",
    "#Add nodes to the list    \n",
    "dList.addNode(1);    \n",
    "dList.addNode(2);    \n",
    "dList.addNode(3);    \n",
    "dList.addNode(4);    \n",
    "dList.addNode(5);    \n",
    "     \n",
    "#Displays the nodes present in the list    \n",
    "dList.display();  "
   ]
  },
  {
   "cell_type": "code",
   "execution_count": 9,
   "metadata": {},
   "outputs": [
    {
     "name": "stdout",
     "output_type": "stream",
     "text": [
      "4\n"
     ]
    }
   ],
   "source": [
    "print(dll.head.next)"
   ]
  }
 ],
 "metadata": {
  "kernelspec": {
   "display_name": "Python 3",
   "language": "python",
   "name": "python3"
  }
 },
 "nbformat": 4,
 "nbformat_minor": 2
}
